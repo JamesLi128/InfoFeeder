{
 "cells": [
  {
   "cell_type": "code",
   "execution_count": 1,
   "metadata": {},
   "outputs": [],
   "source": [
    "import feedparser"
   ]
  },
  {
   "cell_type": "code",
   "execution_count": 4,
   "metadata": {},
   "outputs": [],
   "source": [
    "url = \"http://export.arxiv.org/api/query?search_query=au:basu_a+AND+(cat:cs.LG+OR+cat:cs.AI+OR+math.CO+OR+cat:stat.ML)\""
   ]
  },
  {
   "cell_type": "code",
   "execution_count": 1,
   "metadata": {},
   "outputs": [],
   "source": [
    "from scrap_utils import query_generator\n",
    "\n",
    "author_ls = ['basu_a']\n",
    "category_ls = ['cs.LG', 'cs.AI', 'math.CO', 'stat.ML']\n",
    "query = query_generator(author_ls=author_ls, category_ls=category_ls)"
   ]
  },
  {
   "cell_type": "code",
   "execution_count": 3,
   "metadata": {},
   "outputs": [
    {
     "name": "stdout",
     "output_type": "stream",
     "text": [
      "http://export.arxiv.org/api/query?search_query=(au:\"basu_a\")+AND+(cat:\"cs.LG\"+OR+cat:\"cs.AI\"+OR+cat:\"math.CO\"+OR+cat:\"stat.ML\")\n"
     ]
    }
   ],
   "source": [
    "url = 'http://export.arxiv.org/api/query?search_query=' + query\n",
    "print(url)"
   ]
  },
  {
   "cell_type": "code",
   "execution_count": null,
   "metadata": {},
   "outputs": [],
   "source": []
  }
 ],
 "metadata": {
  "kernelspec": {
   "display_name": "InfoFeeder",
   "language": "python",
   "name": "python3"
  },
  "language_info": {
   "codemirror_mode": {
    "name": "ipython",
    "version": 3
   },
   "file_extension": ".py",
   "mimetype": "text/x-python",
   "name": "python",
   "nbconvert_exporter": "python",
   "pygments_lexer": "ipython3",
   "version": "3.11.9"
  }
 },
 "nbformat": 4,
 "nbformat_minor": 2
}
