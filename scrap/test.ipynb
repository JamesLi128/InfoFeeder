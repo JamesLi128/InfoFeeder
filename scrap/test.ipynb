{
 "cells": [
  {
   "cell_type": "code",
   "execution_count": 2,
   "metadata": {},
   "outputs": [],
   "source": [
    "from scrap_utils import url_generator, Collaboration_Graph_Scraper, download_pdf, parallel_download, truncate_to_embedding_limit\n",
    "\n",
    "author_ls = ['basu_a']\n",
    "category_ls = ['cs.LG', 'cs.AI', 'math.CO', 'stat.ML']\n",
    "query = url_generator(author_ls=author_ls, category_ls=category_ls, max_results=200)"
   ]
  },
  {
   "cell_type": "code",
   "execution_count": 1,
   "metadata": {},
   "outputs": [
    {
     "name": "stdout",
     "output_type": "stream",
     "text": [
      "Embedding for paper 1611.01491v6 already exists.\n"
     ]
    }
   ],
   "source": [
    "from scrap_utils import EmbeddingGenerator\n",
    "\n",
    "embedding_generator = EmbeddingGenerator()\n",
    "embedding_chunks = embedding_generator('1611.01491v6')"
   ]
  },
  {
   "cell_type": "code",
   "execution_count": 4,
   "metadata": {},
   "outputs": [],
   "source": [
    "# import pickle\n",
    "# import networkx as nx\n",
    "\n",
    "# graph, paper_id2author_ls = pickle.load(open('../data/test_graph.pkl', 'rb'))\n",
    "# parallel_download(paper_ids=paper_id2author_ls.keys(), max_workers=10)"
   ]
  },
  {
   "cell_type": "code",
   "execution_count": 8,
   "metadata": {},
   "outputs": [],
   "source": [
    "import fitz\n",
    "\n",
    "# Open a PDF document\n",
    "pdf_document = \"../data/pdf/1611.01491v6.pdf\"\n",
    "doc = fitz.open(pdf_document)\n",
    "\n",
    "# Extract text from each page\n",
    "pages = [doc[i].get_text(\"text\") for i in range(len(doc))]"
   ]
  },
  {
   "cell_type": "code",
   "execution_count": 9,
   "metadata": {},
   "outputs": [],
   "source": [
    "paper = ''.join(pages).replace('\\n', ' ')"
   ]
  },
  {
   "cell_type": "code",
   "execution_count": 14,
   "metadata": {},
   "outputs": [],
   "source": [
    "import tiktoken\n",
    "\n",
    "tokenizer = tiktoken.encoding_for_model(\"gpt-4o-mini-2024-07-18\")\n",
    "\n",
    "chunks = truncate_to_embedding_limit(text=paper, tokenizer=tokenizer)"
   ]
  },
  {
   "cell_type": "code",
   "execution_count": 15,
   "metadata": {},
   "outputs": [
    {
     "data": {
      "text/plain": [
       "59417"
      ]
     },
     "execution_count": 15,
     "metadata": {},
     "output_type": "execute_result"
    }
   ],
   "source": []
  }
 ],
 "metadata": {
  "kernelspec": {
   "display_name": "InfoFeeder",
   "language": "python",
   "name": "python3"
  },
  "language_info": {
   "codemirror_mode": {
    "name": "ipython",
    "version": 3
   },
   "file_extension": ".py",
   "mimetype": "text/x-python",
   "name": "python",
   "nbconvert_exporter": "python",
   "pygments_lexer": "ipython3",
   "version": "3.11.9"
  }
 },
 "nbformat": 4,
 "nbformat_minor": 2
}
