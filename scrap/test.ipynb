{
 "cells": [
  {
   "cell_type": "code",
   "execution_count": 1,
   "metadata": {},
   "outputs": [],
   "source": [
    "import arxiv"
   ]
  },
  {
   "cell_type": "code",
   "execution_count": 4,
   "metadata": {},
   "outputs": [],
   "source": [
    "Client = arxiv.Client()\n",
    "\n",
    "search = arxiv.Search(\n",
    "  query = \"abs:graphon\",\n",
    "  max_results = 10,\n",
    "  sort_by = arxiv.SortCriterion.Relevance\n",
    ")\n"
   ]
  },
  {
   "cell_type": "code",
   "execution_count": 6,
   "metadata": {},
   "outputs": [
    {
     "name": "stdout",
     "output_type": "stream",
     "text": [
      "A graphon counter example\n",
      "['math.CO']\n",
      "The automorphism group of a graphon\n",
      "['math.CO', '05C99, 05C50, 20F99']\n",
      "Finitely forcible graphons with an almost arbitrary structure\n",
      "['math.CO']\n",
      "A noncommutative approach to the graphon Fourier transform\n",
      "['math.CO', '2010: Primary 42C15. Secondary 05C50, 94A12']\n",
      "Compactness and finite forcibility of graphons\n",
      "['math.CO']\n",
      "Cheeger inequalities for graph limits\n",
      "['math.GT', 'math.CO', 'math.PR', '05C40, 35P15, 05C75, 05C99, 58J50']\n",
      "Graphon games: A statistical framework for network games and interventions\n",
      "['cs.GT']\n",
      "On the Graphon Mean Field Game Equations: Individual Agent Affine Dynamics and Mean Field Dependent Performance Functions\n",
      "['math.OC', 'math.AP', 'math.PR', '35M30, 60J60']\n",
      "Graph and graphon neural network stability\n",
      "['cs.LG', 'eess.SP']\n",
      "Learning Graphons via Structured Gromov-Wasserstein Barycenters\n",
      "['cs.LG', 'cs.SI', 'stat.ML']\n"
     ]
    }
   ],
   "source": [
    "results = Client.results(search)\n",
    "\n",
    "for r in results:\n",
    "    print(r.title)\n",
    "    print(r.categories)"
   ]
  }
 ],
 "metadata": {
  "kernelspec": {
   "display_name": "InfoFeeder",
   "language": "python",
   "name": "python3"
  },
  "language_info": {
   "codemirror_mode": {
    "name": "ipython",
    "version": 3
   },
   "file_extension": ".py",
   "mimetype": "text/x-python",
   "name": "python",
   "nbconvert_exporter": "python",
   "pygments_lexer": "ipython3",
   "version": "3.11.9"
  }
 },
 "nbformat": 4,
 "nbformat_minor": 2
}
